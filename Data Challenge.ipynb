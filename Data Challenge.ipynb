{
  "cells": [
    {
      "cell_type": "markdown",
      "source": [
        "# **DSW Data Challenge**"
      ],
      "metadata": {
        "id": "iShuKllbixm7"
      }
    },
    {
      "cell_type": "markdown",
      "source": [
        "# Predictive Modeling for Churn Labels in Telco Customer Data using Machine Learning"
      ],
      "metadata": {
        "id": "iHLRKjccmGVb"
      }
    },
    {
      "cell_type": "markdown",
      "source": [
        "## **Import Libraries & Data Understanding**"
      ],
      "metadata": {
        "id": "ofmb50VQi3Q5"
      }
    },
    {
      "cell_type": "markdown",
      "source": [
        "### **Import Libraries and File**"
      ],
      "metadata": {
        "id": "BVi3QsCjjgao"
      }
    },
    {
      "cell_type": "code",
      "execution_count": null,
      "metadata": {
        "id": "h9nnHufB8tAg"
      },
      "outputs": [],
      "source": [
        "import pandas as pd\n",
        "import numpy as np\n",
        "import seaborn as sns\n",
        "import matplotlib.pyplot as plt\n",
        "import plotly.express as px\n",
        "from sklearn.ensemble import RandomForestClassifier\n",
        "from scipy.stats import chi2_contingency\n",
        "from tabulate import tabulate\n",
        "from sklearn.preprocessing import OneHotEncoder, LabelEncoder\n",
        "from imblearn.over_sampling import SMOTE\n",
        "from sklearn.model_selection import train_test_split\n",
        "from sklearn.metrics import confusion_matrix, classification_report, accuracy_score, f1_score,recall_score\n",
        "from sklearn.metrics import precision_score, average_precision_score, roc_auc_score, roc_curve, auc\n",
        "from xgboost import XGBClassifier\n",
        "from sklearn.neighbors import KNeighborsClassifier\n",
        "from sklearn.ensemble import RandomForestClassifier, AdaBoostClassifier"
      ]
    },
    {
      "cell_type": "markdown",
      "source": [
        "Kode di atas mengimpor sejumlah pustaka dan modul yang diperlukan untuk analisis dan pemodelan data. Ini termasuk pustaka untuk manipulasi data, visualisasi, serta penggunaan berbagai algoritma machine learning seperti RandomForest, XGBoost, dan Keras. Selain itu, ada pustaka untuk mengatasi ketidakseimbangan kelas data dengan metode SMOTE."
      ],
      "metadata": {
        "id": "kd5SobdiUSWi"
      }
    },
    {
      "cell_type": "code",
      "source": [
        "from google.colab import files\n",
        "upload = files.upload()"
      ],
      "metadata": {
        "colab": {
          "base_uri": "https://localhost:8080/",
          "height": 38
        },
        "id": "_FzsuUrg8gtL",
        "outputId": "ce852ad1-6b0c-4add-985d-d802f22561ab"
      },
      "execution_count": null,
      "outputs": [
        {
          "output_type": "display_data",
          "data": {
            "text/plain": [
              "<IPython.core.display.HTML object>"
            ],
            "text/html": [
              "\n",
              "     <input type=\"file\" id=\"files-a6d85be2-1f2f-4adb-b673-d10860cf6d5e\" name=\"files[]\" multiple disabled\n",
              "        style=\"border:none\" />\n",
              "     <output id=\"result-a6d85be2-1f2f-4adb-b673-d10860cf6d5e\">\n",
              "      Upload widget is only available when the cell has been executed in the\n",
              "      current browser session. Please rerun this cell to enable.\n",
              "      </output>\n",
              "      <script>// Copyright 2017 Google LLC\n",
              "//\n",
              "// Licensed under the Apache License, Version 2.0 (the \"License\");\n",
              "// you may not use this file except in compliance with the License.\n",
              "// You may obtain a copy of the License at\n",
              "//\n",
              "//      http://www.apache.org/licenses/LICENSE-2.0\n",
              "//\n",
              "// Unless required by applicable law or agreed to in writing, software\n",
              "// distributed under the License is distributed on an \"AS IS\" BASIS,\n",
              "// WITHOUT WARRANTIES OR CONDITIONS OF ANY KIND, either express or implied.\n",
              "// See the License for the specific language governing permissions and\n",
              "// limitations under the License.\n",
              "\n",
              "/**\n",
              " * @fileoverview Helpers for google.colab Python module.\n",
              " */\n",
              "(function(scope) {\n",
              "function span(text, styleAttributes = {}) {\n",
              "  const element = document.createElement('span');\n",
              "  element.textContent = text;\n",
              "  for (const key of Object.keys(styleAttributes)) {\n",
              "    element.style[key] = styleAttributes[key];\n",
              "  }\n",
              "  return element;\n",
              "}\n",
              "\n",
              "// Max number of bytes which will be uploaded at a time.\n",
              "const MAX_PAYLOAD_SIZE = 100 * 1024;\n",
              "\n",
              "function _uploadFiles(inputId, outputId) {\n",
              "  const steps = uploadFilesStep(inputId, outputId);\n",
              "  const outputElement = document.getElementById(outputId);\n",
              "  // Cache steps on the outputElement to make it available for the next call\n",
              "  // to uploadFilesContinue from Python.\n",
              "  outputElement.steps = steps;\n",
              "\n",
              "  return _uploadFilesContinue(outputId);\n",
              "}\n",
              "\n",
              "// This is roughly an async generator (not supported in the browser yet),\n",
              "// where there are multiple asynchronous steps and the Python side is going\n",
              "// to poll for completion of each step.\n",
              "// This uses a Promise to block the python side on completion of each step,\n",
              "// then passes the result of the previous step as the input to the next step.\n",
              "function _uploadFilesContinue(outputId) {\n",
              "  const outputElement = document.getElementById(outputId);\n",
              "  const steps = outputElement.steps;\n",
              "\n",
              "  const next = steps.next(outputElement.lastPromiseValue);\n",
              "  return Promise.resolve(next.value.promise).then((value) => {\n",
              "    // Cache the last promise value to make it available to the next\n",
              "    // step of the generator.\n",
              "    outputElement.lastPromiseValue = value;\n",
              "    return next.value.response;\n",
              "  });\n",
              "}\n",
              "\n",
              "/**\n",
              " * Generator function which is called between each async step of the upload\n",
              " * process.\n",
              " * @param {string} inputId Element ID of the input file picker element.\n",
              " * @param {string} outputId Element ID of the output display.\n",
              " * @return {!Iterable<!Object>} Iterable of next steps.\n",
              " */\n",
              "function* uploadFilesStep(inputId, outputId) {\n",
              "  const inputElement = document.getElementById(inputId);\n",
              "  inputElement.disabled = false;\n",
              "\n",
              "  const outputElement = document.getElementById(outputId);\n",
              "  outputElement.innerHTML = '';\n",
              "\n",
              "  const pickedPromise = new Promise((resolve) => {\n",
              "    inputElement.addEventListener('change', (e) => {\n",
              "      resolve(e.target.files);\n",
              "    });\n",
              "  });\n",
              "\n",
              "  const cancel = document.createElement('button');\n",
              "  inputElement.parentElement.appendChild(cancel);\n",
              "  cancel.textContent = 'Cancel upload';\n",
              "  const cancelPromise = new Promise((resolve) => {\n",
              "    cancel.onclick = () => {\n",
              "      resolve(null);\n",
              "    };\n",
              "  });\n",
              "\n",
              "  // Wait for the user to pick the files.\n",
              "  const files = yield {\n",
              "    promise: Promise.race([pickedPromise, cancelPromise]),\n",
              "    response: {\n",
              "      action: 'starting',\n",
              "    }\n",
              "  };\n",
              "\n",
              "  cancel.remove();\n",
              "\n",
              "  // Disable the input element since further picks are not allowed.\n",
              "  inputElement.disabled = true;\n",
              "\n",
              "  if (!files) {\n",
              "    return {\n",
              "      response: {\n",
              "        action: 'complete',\n",
              "      }\n",
              "    };\n",
              "  }\n",
              "\n",
              "  for (const file of files) {\n",
              "    const li = document.createElement('li');\n",
              "    li.append(span(file.name, {fontWeight: 'bold'}));\n",
              "    li.append(span(\n",
              "        `(${file.type || 'n/a'}) - ${file.size} bytes, ` +\n",
              "        `last modified: ${\n",
              "            file.lastModifiedDate ? file.lastModifiedDate.toLocaleDateString() :\n",
              "                                    'n/a'} - `));\n",
              "    const percent = span('0% done');\n",
              "    li.appendChild(percent);\n",
              "\n",
              "    outputElement.appendChild(li);\n",
              "\n",
              "    const fileDataPromise = new Promise((resolve) => {\n",
              "      const reader = new FileReader();\n",
              "      reader.onload = (e) => {\n",
              "        resolve(e.target.result);\n",
              "      };\n",
              "      reader.readAsArrayBuffer(file);\n",
              "    });\n",
              "    // Wait for the data to be ready.\n",
              "    let fileData = yield {\n",
              "      promise: fileDataPromise,\n",
              "      response: {\n",
              "        action: 'continue',\n",
              "      }\n",
              "    };\n",
              "\n",
              "    // Use a chunked sending to avoid message size limits. See b/62115660.\n",
              "    let position = 0;\n",
              "    do {\n",
              "      const length = Math.min(fileData.byteLength - position, MAX_PAYLOAD_SIZE);\n",
              "      const chunk = new Uint8Array(fileData, position, length);\n",
              "      position += length;\n",
              "\n",
              "      const base64 = btoa(String.fromCharCode.apply(null, chunk));\n",
              "      yield {\n",
              "        response: {\n",
              "          action: 'append',\n",
              "          file: file.name,\n",
              "          data: base64,\n",
              "        },\n",
              "      };\n",
              "\n",
              "      let percentDone = fileData.byteLength === 0 ?\n",
              "          100 :\n",
              "          Math.round((position / fileData.byteLength) * 100);\n",
              "      percent.textContent = `${percentDone}% done`;\n",
              "\n",
              "    } while (position < fileData.byteLength);\n",
              "  }\n",
              "\n",
              "  // All done.\n",
              "  yield {\n",
              "    response: {\n",
              "      action: 'complete',\n",
              "    }\n",
              "  };\n",
              "}\n",
              "\n",
              "scope.google = scope.google || {};\n",
              "scope.google.colab = scope.google.colab || {};\n",
              "scope.google.colab._files = {\n",
              "  _uploadFiles,\n",
              "  _uploadFilesContinue,\n",
              "};\n",
              "})(self);\n",
              "</script> "
            ]
          },
          "metadata": {}
        }
      ]
    },
    {
      "cell_type": "markdown",
      "source": [
        "Kode di atas menggunakan pustaka `google.colab` untuk mengunggah file ke lingkungan Google Colab."
      ],
      "metadata": {
        "id": "yjy1-i_mUcfh"
      }
    },
    {
      "cell_type": "code",
      "execution_count": null,
      "metadata": {
        "id": "fLnLqYum86z3"
      },
      "outputs": [],
      "source": [
        "df = pd.read_excel('Telco_customer_churn_adapted_v2.xlsx')"
      ]
    },
    {
      "cell_type": "markdown",
      "source": [
        "Baris kode ini menggunakan pustaka `pandas` untuk membaca file Excel dengan nama 'Telco_customer_churn_adapted_v2.xlsx' ke dalam sebuah DataFrame yang disimpan dalam variabel 'df'."
      ],
      "metadata": {
        "id": "ZTwMzhTeT5Vz"
      }
    },
    {
      "cell_type": "code",
      "execution_count": null,
      "metadata": {
        "id": "Tv-y6H0o9iBF"
      },
      "outputs": [],
      "source": [
        "df"
      ]
    },
    {
      "cell_type": "markdown",
      "source": [
        "Baris kode ini mencetak (menampilkan) DataFrame 'df' yang telah Anda baca sebelumnya. Dengan melihat isi DataFrame ini, Anda dapat memeriksa dan memahami struktur data yang akan digunakan dalam proyek Anda, termasuk kolom-kolom, nilai-nilai, dan informasi dasar lainnya yang terkandung dalam data tersebut."
      ],
      "metadata": {
        "id": "yLhKXeYiUrJO"
      }
    },
    {
      "cell_type": "markdown",
      "source": [
        "### **Checking Data Types**"
      ],
      "metadata": {
        "id": "CElawWYqjmHb"
      }
    },
    {
      "cell_type": "code",
      "execution_count": null,
      "metadata": {
        "id": "uNtQXeg09kUM"
      },
      "outputs": [],
      "source": [
        "df.info()"
      ]
    },
    {
      "cell_type": "markdown",
      "source": [
        "Dengan menggunakan perintah `df.info()`, Anda dapat melihat informasi tentang DataFrame 'df'. Ini akan mencakup informasi seperti jumlah entri, jumlah kolom, tipe data masing-masing kolom, serta apakah ada nilai-nilai yang hilang (missing values) dalam DataFrame tersebut. Informasi ini akan membantu Anda memahami karakteristik data yang sedang Anda kerjakan dan memutuskan langkah-langkah selanjutnya dalam analisis atau pemrosesan data."
      ],
      "metadata": {
        "id": "I1GxJIXMU0C5"
      }
    },
    {
      "cell_type": "markdown",
      "source": [
        "### **Checking Data Statistics**"
      ],
      "metadata": {
        "id": "2iF-cPNijppb"
      }
    },
    {
      "cell_type": "code",
      "execution_count": null,
      "metadata": {
        "id": "HQGg-KKW9vps"
      },
      "outputs": [],
      "source": [
        "df.describe()"
      ]
    },
    {
      "cell_type": "markdown",
      "source": [
        "Pemanggilan df.describe() digunakan untuk menghasilkan statistik deskriptif ringkas tentang kolom-kolom numerik dalam DataFrame 'df'. Ini mencakup statistik seperti rata-rata (mean), standar deviasi (std), nilai minimum (min), kuartil bawah (25%), median (50%), kuartil atas (75%), dan nilai maksimum (max) untuk setiap kolom numerik."
      ],
      "metadata": {
        "id": "21EkA7Z3VBkx"
      }
    },
    {
      "cell_type": "markdown",
      "source": [
        "### **Checking Null and Duplicated Values**"
      ],
      "metadata": {
        "id": "JSJes24Fj1DT"
      }
    },
    {
      "cell_type": "code",
      "execution_count": null,
      "metadata": {
        "id": "ZGmbhv5b9znZ"
      },
      "outputs": [],
      "source": [
        "df.isnull().sum()"
      ]
    },
    {
      "cell_type": "markdown",
      "source": [
        "Dengan menggunakan df.isnull().sum(), Anda melakukan pemeriksaan terhadap DataFrame 'df' untuk mengidentifikasi apakah ada nilai-nilai yang hilang (null) dalam setiap kolom. Dan ternyata hasilnya menunjukkan bahwa tidak ada nilai null dalam DataFrame ini, yang berarti data sudah bersih dan tidak memerlukan langkah-langkah khusus untuk mengatasi masalah data yang hilang."
      ],
      "metadata": {
        "id": "n-KzLW_gVLlD"
      }
    },
    {
      "cell_type": "code",
      "execution_count": null,
      "metadata": {
        "id": "jNTnaBKU92IY"
      },
      "outputs": [],
      "source": [
        "df.duplicated().sum()"
      ]
    },
    {
      "cell_type": "markdown",
      "source": [
        "Pemeriksaan df.duplicated().sum() digunakan untuk mengidentifikasi apakah ada baris duplikat dalam DataFrame 'df'. Dan hasilnya adalah 0, yang berarti tidak ada baris yang identik (duplikat) dalam DataFrame ini."
      ],
      "metadata": {
        "id": "4oeJkys7Vyi4"
      }
    },
    {
      "cell_type": "markdown",
      "source": [
        "### **Feature Engineering**"
      ],
      "metadata": {
        "id": "rjwNCWrK5bDO"
      }
    },
    {
      "cell_type": "code",
      "source": [
        "df['Total Charges'] = df['Tenure Months'] * df['Monthly Purchase (Thou. IDR)']"
      ],
      "metadata": {
        "id": "rMsAI7yl1HWy"
      },
      "execution_count": null,
      "outputs": []
    },
    {
      "cell_type": "code",
      "source": [
        "df"
      ],
      "metadata": {
        "id": "oESIZGTo1QCR"
      },
      "execution_count": null,
      "outputs": []
    },
    {
      "cell_type": "markdown",
      "source": [
        "### **Checking Outliers**"
      ],
      "metadata": {
        "id": "GRb-fbNGK1VS"
      }
    },
    {
      "cell_type": "code",
      "source": [
        "df.plot(kind='box', layout=(3, 5), figsize=(20, 10), subplots=True, sharex=False, sharey=False)\n",
        "plt.show()"
      ],
      "metadata": {
        "id": "EsGiqY4-wqJq"
      },
      "execution_count": null,
      "outputs": []
    },
    {
      "cell_type": "markdown",
      "source": [
        "Kode ini membuat diagram box plot untuk setiap fitur dalam DataFrame 'df'. Box plot digunakan untuk mengidentifikasi adanya pencilan (outliers) dalam data."
      ],
      "metadata": {
        "id": "Ii3Sb7fpWE1F"
      }
    },
    {
      "cell_type": "markdown",
      "source": [
        "## **Exploratory Data Analysis (EDA)**"
      ],
      "metadata": {
        "id": "iml2hk4Nken3"
      }
    },
    {
      "cell_type": "markdown",
      "source": [
        "### **Make New Dataframe for Correlation and Encode Target Feature**"
      ],
      "metadata": {
        "id": "_NgiGmYyZQrO"
      }
    },
    {
      "cell_type": "code",
      "source": [
        "corr_df = df.copy()"
      ],
      "metadata": {
        "id": "Byk5LXheZI8v"
      },
      "execution_count": null,
      "outputs": []
    },
    {
      "cell_type": "code",
      "source": [
        "corr_df['Churn Label'].replace(to_replace='Yes', value=1, inplace=True)\n",
        "corr_df['Churn Label'].replace(to_replace='No',  value=0, inplace=True)"
      ],
      "metadata": {
        "id": "j-UfYl88ZM3Z"
      },
      "execution_count": null,
      "outputs": []
    },
    {
      "cell_type": "markdown",
      "source": [
        "Kode di atas tampaknya mencoba mengganti nilai dalam kolom 'Churn Label' dengan 'Yes' menjadi 1 dan 'No' menjadi 0 dalam DataFrame 'corr_df'."
      ],
      "metadata": {
        "id": "1nzoPjdtaDEP"
      }
    },
    {
      "cell_type": "markdown",
      "source": [
        "### **Categorical Features Correlation to Churn Label**"
      ],
      "metadata": {
        "id": "KaxqXHGWj-jB"
      }
    },
    {
      "cell_type": "code",
      "execution_count": null,
      "metadata": {
        "id": "8ZLzyupJ0rlK"
      },
      "outputs": [],
      "source": [
        "def contingency_table(feature1, feature2):\n",
        "  return pd.crosstab(df[feature1], df[feature2])"
      ]
    },
    {
      "cell_type": "markdown",
      "source": [
        "Kode di atas adalah sebuah fungsi yang menghasilkan tabel kontingensi antara dua fitur (kolom) dalam DataFrame 'df'."
      ],
      "metadata": {
        "id": "391Vi3tzWp-H"
      }
    },
    {
      "cell_type": "code",
      "execution_count": null,
      "metadata": {
        "id": "tfGCcLluuu29"
      },
      "outputs": [],
      "source": [
        "categorical_data = df.select_dtypes(include='object').columns.to_list()\n",
        "chi_values = []\n",
        "p_values = []\n",
        "table_data = []\n",
        "\n",
        "for i in categorical_data:\n",
        "    contingency_feature = contingency_table('Churn Label', i)\n",
        "    chi2, p, _, _ = chi2_contingency(contingency_feature)\n",
        "    table = tabulate(contingency_feature, headers='keys', tablefmt='pretty')\n",
        "    table_data.append({\n",
        "        'Feature': i,\n",
        "        'Chi-Squared Value': chi2,\n",
        "        'P-Value': p,\n",
        "        'Contingency Table': table\n",
        "    })\n",
        "    chi_values.append(chi2)\n",
        "    p_values.append(p)\n",
        "\n",
        "print(tabulate(table_data, headers='keys', tablefmt='pretty'))"
      ]
    },
    {
      "cell_type": "markdown",
      "source": [
        "Kode di atas menggambarkan langkah-langkah untuk melakukan analisis chi-squared (uji chi-kuadrat) untuk menguji hubungan antara variabel 'Churn Label' (variabel target) dan variabel kategoris lainnya dalam DataFrame"
      ],
      "metadata": {
        "id": "JFz09QgXWZ0O"
      }
    },
    {
      "cell_type": "code",
      "source": [
        "# Data\n",
        "features = [item['Feature'] for item in table_data]\n",
        "chi_values = [item['Chi-Squared Value'] for item in table_data]\n",
        "p_values = [item['P-Value'] for item in table_data]"
      ],
      "metadata": {
        "id": "tO-RdSRQ1fcK"
      },
      "execution_count": null,
      "outputs": []
    },
    {
      "cell_type": "markdown",
      "source": [
        "Baris kode di atas membuat tiga list: features, chi_values, dan p_values yang berisi informasi hasil analisis chi-squared (uji chi-kuadrat) yang telah dilakukan di cell sebelumnya pada data."
      ],
      "metadata": {
        "id": "oFYNnkEXXIL8"
      }
    },
    {
      "cell_type": "code",
      "source": [
        "# Plot Chi-squared values\n",
        "plt.figure(figsize=(8, 4))\n",
        "plt.barh(features, chi_values, color='skyblue')\n",
        "plt.xlabel('Chi-Squared Value')\n",
        "plt.title('Chi-Squared Values for Categorical Features')\n",
        "plt.gca().invert_yaxis()\n",
        "plt.show()\n",
        "\n",
        "# Plot P-values\n",
        "plt.figure(figsize=(8, 4))\n",
        "plt.barh(features, p_values, color='lightcoral')\n",
        "plt.xlabel('P-Value')\n",
        "plt.title('P-Values for Categorical Features')\n",
        "plt.gca().invert_yaxis()\n",
        "plt.show()"
      ],
      "metadata": {
        "id": "oIdGBmRE2NrK"
      },
      "execution_count": null,
      "outputs": []
    },
    {
      "cell_type": "markdown",
      "source": [
        "Kode di atas adalah bagian dari visualisasi hasil analisis chi-squared (uji chi-kuadrat) yang telah dilakukan pada fitur-fitur kategorikal. Kode ini menghasilkan dua grafik untuk memvisualisasikan nilai chi-kuadrat dan nilai p (p-value) dari setiap fitur kategorikal."
      ],
      "metadata": {
        "id": "3mi6G9pPXdq9"
      }
    },
    {
      "cell_type": "markdown",
      "source": [
        "### **Numerical Features Correlation to Churn Label**"
      ],
      "metadata": {
        "id": "n5RMf14mkW1C"
      }
    },
    {
      "cell_type": "code",
      "source": [
        "num_corr_df = corr_df.corr()['Churn Label'].sort_values(ascending=True)[1:]\n",
        "fig,ax = plt.subplots(1, figsize=(8, 4))\n",
        "sns.barplot(\n",
        "    y=num_corr_df.index,\n",
        "    x=num_corr_df.values,\n",
        "    ax=ax\n",
        ")\n",
        "plt.title('Korelasi fitur numerik terhadap Churn Label')\n",
        "plt.show()"
      ],
      "metadata": {
        "id": "gEdvdbvEzVOp"
      },
      "execution_count": null,
      "outputs": []
    },
    {
      "cell_type": "markdown",
      "source": [
        "Kode di atas digunakan untuk menghitung dan memvisualisasikan korelasi antara fitur-fitur numerik dalam DataFrame dengan variabel target 'Churn Label'."
      ],
      "metadata": {
        "id": "lw8-IHbGYUfR"
      }
    },
    {
      "cell_type": "markdown",
      "source": [
        "### **Categorical and Numerical Features Correlation to Churn Label with One Hot Encoding**"
      ],
      "metadata": {
        "id": "k-1NHa7VTOQM"
      }
    },
    {
      "cell_type": "code",
      "source": [
        "ohe_df = pd.get_dummies(corr_df)\n",
        "ohe_df.head()"
      ],
      "metadata": {
        "id": "gpVsi3kveKNM"
      },
      "execution_count": null,
      "outputs": []
    },
    {
      "cell_type": "markdown",
      "source": [
        "Baris kode di atas digunakan untuk membuat variabel dummy (one-hot encoding) dari DataFrame 'corr_df' yang mengandung fitur-fitur kategorikal. One-hot encoding mengubah fitur-fitur kategoris menjadi representasi biner (0 dan 1)."
      ],
      "metadata": {
        "id": "RV1y8rSQdA3B"
      }
    },
    {
      "cell_type": "code",
      "source": [
        "plt.figure(figsize=(28, 26))\n",
        "sns.heatmap(ohe_df.corr(), annot=True, cmap='coolwarm', linewidths=0.5)\n",
        "plt.show()"
      ],
      "metadata": {
        "id": "V70RrAg6f9j9"
      },
      "execution_count": null,
      "outputs": []
    },
    {
      "cell_type": "markdown",
      "source": [
        "Kode di atas digunakan untuk membuat sebuah heatmap (peta panas) korelasi antara fitur-fitur dalam DataFrame 'ohe_df' yang telah dihasilkan setelah one-hot encoding. Heatmap adalah alat visual yang berguna untuk memahami sejauh mana fitur-fitur tersebut berkorelasi satu sama lain."
      ],
      "metadata": {
        "id": "BuZOzQkndRzG"
      }
    },
    {
      "cell_type": "code",
      "source": [
        "fig = px.bar(x=ohe_df.corr()['Churn Label'].sort_values(ascending=True).index,\n",
        "             y=ohe_df.corr()['Churn Label'].sort_values(ascending=True).values,\n",
        "             color=ohe_df.corr()['Churn Label'].sort_values(ascending=True).values)\n",
        "fig.show()"
      ],
      "metadata": {
        "id": "frm1AMH_gG-n"
      },
      "execution_count": null,
      "outputs": []
    },
    {
      "cell_type": "markdown",
      "source": [
        "Kode di atas mencoba membuat grafik bar untuk menampilkan korelasi antara fitur-fitur dalam DataFrame 'ohe_df' dengan variabel target 'Churn Label'."
      ],
      "metadata": {
        "id": "EBAchssJhFbe"
      }
    },
    {
      "cell_type": "markdown",
      "source": [
        "### **Categorical and Numerical Features Correlation to Churn Label with Label Encoding**"
      ],
      "metadata": {
        "id": "q5W0nEYC-TOX"
      }
    },
    {
      "cell_type": "code",
      "source": [
        "def label_encoder(dataframe_series):\n",
        "    if dataframe_series.dtype == 'object':\n",
        "        return LabelEncoder().fit_transform(dataframe_series)\n",
        "    return dataframe_series"
      ],
      "metadata": {
        "id": "5znsY1Ts_VLC"
      },
      "execution_count": null,
      "outputs": []
    },
    {
      "cell_type": "code",
      "source": [
        "le_df = corr_df.apply(lambda x: label_encoder(x))\n",
        "le_df.head()"
      ],
      "metadata": {
        "id": "bhdh9OID_duO"
      },
      "execution_count": null,
      "outputs": []
    },
    {
      "cell_type": "markdown",
      "source": [
        "Kode di atas mendefinisikan sebuah fungsi label_encoder yang akan mengubah nilai-nilai dalam sebuah kolom (Series) dari DataFrame menjadi representasi numerik menggunakan LabelEncoder. Kemudian, Anda menerapkan fungsi ini pada setiap kolom dalam DataFrame 'corr_df' dengan menggunakan metode .apply()."
      ],
      "metadata": {
        "id": "MjWlp4n4hPsz"
      }
    },
    {
      "cell_type": "code",
      "source": [
        "plt.figure(figsize=(16, 12))\n",
        "sns.heatmap(le_df.corr(), annot=True, cmap='coolwarm', linewidths=0.5)\n",
        "plt.show()"
      ],
      "metadata": {
        "id": "auvwVoZ3_1oK"
      },
      "execution_count": null,
      "outputs": []
    },
    {
      "cell_type": "markdown",
      "source": [
        "Kode di atas digunakan untuk membuat sebuah heatmap (peta panas) korelasi antara fitur-fitur dalam DataFrame 'le_df' yang telah dihasilkan setelah one-hot encoding. Heatmap adalah alat visual yang berguna untuk memahami sejauh mana fitur-fitur tersebut berkorelasi satu sama lain."
      ],
      "metadata": {
        "id": "edx_F-kMlBYT"
      }
    },
    {
      "cell_type": "code",
      "source": [
        "fig = px.bar(le_df.corr()['Churn Label'].sort_values(ascending=True), color='value')\n",
        "fig.show()"
      ],
      "metadata": {
        "id": "c6G3Ae4p_58V"
      },
      "execution_count": null,
      "outputs": []
    },
    {
      "cell_type": "markdown",
      "source": [
        "Kode di atas mencoba membuat grafik bar untuk menampilkan korelasi antara fitur-fitur dalam DataFrame 'le_df' dengan variabel target 'Churn Label'."
      ],
      "metadata": {
        "id": "kKEdERnAlFiB"
      }
    },
    {
      "cell_type": "markdown",
      "source": [
        "### **Feature Importance using Random Forest Model**"
      ],
      "metadata": {
        "id": "K4e40x9nABGa"
      }
    },
    {
      "cell_type": "code",
      "source": [
        "X = le_df.drop(['Churn Label'], axis=1)\n",
        "y = le_df['Churn Label']\n",
        "clf = RandomForestClassifier()\n",
        "clf.fit(X, y)\n",
        "feature_importance = clf.feature_importances_\n",
        "print(feature_importance)"
      ],
      "metadata": {
        "id": "Ej3a-MnK6Y2x"
      },
      "execution_count": null,
      "outputs": []
    },
    {
      "cell_type": "code",
      "source": [
        "# Membuat DataFrame untuk memudahkan visualisasi\n",
        "feature_importance_df = pd.DataFrame({'Feature': X.columns, 'Importance': feature_importance})\n",
        "feature_importance_df = feature_importance_df.sort_values(by='Importance', ascending=True)\n",
        "\n",
        "# Plot bar chart fitur penting menggunakan Plotly Express\n",
        "fig = px.bar(feature_importance_df, x='Importance', y='Feature', orientation='h', title='Feature Importance in Random Forest Model', color='Importance')\n",
        "fig.update_xaxes(title_text='Feature Importance')\n",
        "fig.update_yaxes(title_text='Feature')\n",
        "fig.show()"
      ],
      "metadata": {
        "id": "Ty-3qAwB6l2e"
      },
      "execution_count": null,
      "outputs": []
    },
    {
      "cell_type": "markdown",
      "source": [
        "### **Checking Data Distribution (Univariate Analysis)**"
      ],
      "metadata": {
        "id": "S4DB8Ab5kuxe"
      }
    },
    {
      "cell_type": "code",
      "execution_count": null,
      "metadata": {
        "id": "iimEAQU1snSb"
      },
      "outputs": [],
      "source": [
        "print(df.groupby('Tenure Months')['Customer ID'].nunique())\n",
        "px.histogram(df, x='Tenure Months', title='Distribusi Fitur Tenure Months')"
      ]
    },
    {
      "cell_type": "code",
      "execution_count": null,
      "metadata": {
        "id": "DPK9oPLns7KW"
      },
      "outputs": [],
      "source": [
        "print(df.groupby('Location')['Customer ID'].nunique())\n",
        "px.histogram(df, x='Location', title='Distribusi Fitur Location')"
      ]
    },
    {
      "cell_type": "code",
      "execution_count": null,
      "metadata": {
        "id": "BrVUzJA9s-F3"
      },
      "outputs": [],
      "source": [
        "print(df.groupby('Device Class')['Customer ID'].nunique())\n",
        "px.histogram(df, x='Device Class', title='Distribusi Fitur Device Class')"
      ]
    },
    {
      "cell_type": "code",
      "execution_count": null,
      "metadata": {
        "id": "uy4ehSrlruGS"
      },
      "outputs": [],
      "source": [
        "print(df.groupby('Games Product')['Customer ID'].nunique())\n",
        "px.histogram(df, x='Games Product', title='Distribusi Fitur Games Product')"
      ]
    },
    {
      "cell_type": "code",
      "execution_count": null,
      "metadata": {
        "id": "3Bx0cDLqtD9K"
      },
      "outputs": [],
      "source": [
        "print(df.groupby('Music Product')['Customer ID'].nunique())\n",
        "px.histogram(df, x='Music Product', title='Distribusi Fitur Music Product')"
      ]
    },
    {
      "cell_type": "code",
      "execution_count": null,
      "metadata": {
        "id": "7zhI8DnYtHdU"
      },
      "outputs": [],
      "source": [
        "print(df.groupby('Education Product')['Customer ID'].nunique())\n",
        "px.histogram(df, x='Education Product', title='Distribusi Fitur Education Product')"
      ]
    },
    {
      "cell_type": "code",
      "execution_count": null,
      "metadata": {
        "id": "IN1l00eAtPW_"
      },
      "outputs": [],
      "source": [
        "print(df.groupby('Call Center')['Customer ID'].nunique())\n",
        "px.histogram(df, x='Call Center', title='Distribusi Fitur Call Center')"
      ]
    },
    {
      "cell_type": "code",
      "execution_count": null,
      "metadata": {
        "id": "m5TzYeGetkhf"
      },
      "outputs": [],
      "source": [
        "print(df.groupby('Video Product')['Customer ID'].nunique())\n",
        "px.histogram(df, x='Video Product', title='Distribusi Fitur Video Product')"
      ]
    },
    {
      "cell_type": "code",
      "execution_count": null,
      "metadata": {
        "id": "gVPlwz2dtuVm"
      },
      "outputs": [],
      "source": [
        "print(df.groupby('Use MyApp')['Customer ID'].nunique())\n",
        "px.histogram(df, x='Use MyApp', title='Distribusi Fitur Use MyApp')"
      ]
    },
    {
      "cell_type": "code",
      "execution_count": null,
      "metadata": {
        "id": "QioGj2pLtyQI"
      },
      "outputs": [],
      "source": [
        "print(df.groupby('Payment Method')['Customer ID'].nunique())\n",
        "px.histogram(df, x='Payment Method', title='Distribusi Fitur Payment Method')"
      ]
    },
    {
      "cell_type": "code",
      "execution_count": null,
      "metadata": {
        "id": "ylU7yJ65t4Kz"
      },
      "outputs": [],
      "source": [
        "print(df.groupby('Monthly Purchase (Thou. IDR)')['Customer ID'].nunique())\n",
        "px.histogram(df, x='Monthly Purchase (Thou. IDR)', title='Distribusi Fitur Monthly Purchase (Thou. IDR)')"
      ]
    },
    {
      "cell_type": "code",
      "execution_count": null,
      "metadata": {
        "id": "hdOH2v02kwyp"
      },
      "outputs": [],
      "source": [
        "print(df.groupby('Churn Label')['Customer ID'].nunique())\n",
        "px.histogram(df, x='Churn Label', title='Distribusi Fitur Churn Label')"
      ]
    },
    {
      "cell_type": "code",
      "source": [
        "print(df.groupby('CLTV (Predicted Thou. IDR)')['Customer ID'].nunique())\n",
        "px.histogram(df, x='CLTV (Predicted Thou. IDR)', title='Distribusi Fitur CLTV (Predicted Thou. IDR)')"
      ],
      "metadata": {
        "id": "odZBeFnh9Lq3"
      },
      "execution_count": null,
      "outputs": []
    },
    {
      "cell_type": "markdown",
      "source": [
        "### **Bivariate Analysis**"
      ],
      "metadata": {
        "id": "9-uCkdxVk5Ru"
      }
    },
    {
      "cell_type": "code",
      "source": [
        "# Create a DataFrame with the data\n",
        "data = df.groupby(['Churn Label', 'Tenure Months']).size().reset_index(name='Count')\n",
        "\n",
        "# Create an interactive bar chart\n",
        "fig = px.bar(data, x='Tenure Months', y='Count', color='Churn Label', barmode='group',\n",
        "             title='Churn Label vs Tenure Months Graph',\n",
        "             labels={'Churn Label': 'Churn Label'}\n",
        "             )\n",
        "\n",
        "# Show the interactive plot\n",
        "fig.show()"
      ],
      "metadata": {
        "id": "Qj3azu6J-e1T"
      },
      "execution_count": null,
      "outputs": []
    },
    {
      "cell_type": "code",
      "source": [
        "# Create a DataFrame with the data\n",
        "data = df.groupby(['Churn Label', 'Location']).size().reset_index(name='Count')\n",
        "\n",
        "# Create an interactive bar chart\n",
        "fig = px.bar(data, x='Location', y='Count', color='Churn Label', barmode='group',\n",
        "             title='Churn Label vs Location Graph',\n",
        "             labels={'Churn Label': 'Churn Label'}\n",
        "             )\n",
        "\n",
        "# Show the interactive plot\n",
        "fig.show()"
      ],
      "metadata": {
        "id": "5XaWI6Bc9dxj"
      },
      "execution_count": null,
      "outputs": []
    },
    {
      "cell_type": "code",
      "source": [
        "# Create a DataFrame with the data\n",
        "data = df.groupby(['Churn Label', 'Device Class']).size().reset_index(name='Count')\n",
        "\n",
        "# Create an interactive bar chart\n",
        "fig = px.bar(data, x='Device Class', y='Count', color='Churn Label', barmode='group',\n",
        "             title='Churn Label vs Device Class Graph',\n",
        "             labels={'Churn Label': 'Churn Label'}\n",
        "             )\n",
        "\n",
        "# Show the interactive plot\n",
        "fig.show()"
      ],
      "metadata": {
        "id": "sb4Cu_uK-r9n"
      },
      "execution_count": null,
      "outputs": []
    },
    {
      "cell_type": "code",
      "source": [
        "# Create a DataFrame with the data\n",
        "data = df.groupby(['Churn Label', 'Games Product']).size().reset_index(name='Count')\n",
        "\n",
        "# Create an interactive bar chart\n",
        "fig = px.bar(data, x='Games Product', y='Count', color='Churn Label', barmode='group',\n",
        "             title='Churn Label vs Games Product Graph',\n",
        "             labels={'Churn Label': 'Churn Label'}\n",
        "             )\n",
        "\n",
        "# Show the interactive plot\n",
        "fig.show()"
      ],
      "metadata": {
        "id": "SZ0l_CZx-yFQ"
      },
      "execution_count": null,
      "outputs": []
    },
    {
      "cell_type": "code",
      "source": [
        "# Create a DataFrame with the data\n",
        "data = df.groupby(['Churn Label', 'Music Product']).size().reset_index(name='Count')\n",
        "\n",
        "# Create an interactive bar chart\n",
        "fig = px.bar(data, x='Music Product', y='Count', color='Churn Label', barmode='group',\n",
        "             title='Churn Label vs Music Product Graph',\n",
        "             labels={'Churn Label': 'Churn Label'}\n",
        "             )\n",
        "\n",
        "# Show the interactive plot\n",
        "fig.show()"
      ],
      "metadata": {
        "id": "0MicyMX6-0hI"
      },
      "execution_count": null,
      "outputs": []
    },
    {
      "cell_type": "code",
      "source": [
        "# Create a DataFrame with the data\n",
        "data = df.groupby(['Churn Label', 'Education Product']).size().reset_index(name='Count')\n",
        "\n",
        "# Create an interactive bar chart\n",
        "fig = px.bar(data, x='Education Product', y='Count', color='Churn Label', barmode='group',\n",
        "             title='Churn Label vs Education Product Graph',\n",
        "             labels={'Churn Label': 'Churn Label'}\n",
        "             )\n",
        "\n",
        "# Show the interactive plot\n",
        "fig.show()"
      ],
      "metadata": {
        "id": "O-3-xMOn-2aI"
      },
      "execution_count": null,
      "outputs": []
    },
    {
      "cell_type": "code",
      "source": [
        "# Create a DataFrame with the data\n",
        "data = df.groupby(['Churn Label', 'Call Center']).size().reset_index(name='Count')\n",
        "\n",
        "# Create an interactive bar chart\n",
        "fig = px.bar(data, x='Call Center', y='Count', color='Churn Label', barmode='group',\n",
        "             title='Churn Label vs Call Center Graph',\n",
        "             labels={'Churn Label': 'Churn Label'}\n",
        "             )\n",
        "\n",
        "# Show the interactive plot\n",
        "fig.show()"
      ],
      "metadata": {
        "id": "i9T8QWpC-5MZ"
      },
      "execution_count": null,
      "outputs": []
    },
    {
      "cell_type": "code",
      "source": [
        "# Create a DataFrame with the data\n",
        "data = df.groupby(['Churn Label', 'Video Product']).size().reset_index(name='Count')\n",
        "\n",
        "# Create an interactive bar chart\n",
        "fig = px.bar(data, x='Video Product', y='Count', color='Churn Label', barmode='group',\n",
        "             title='Churn Label vs Video Product Graph',\n",
        "             labels={'Churn Label': 'Churn Label'}\n",
        "             )\n",
        "\n",
        "# Show the interactive plot\n",
        "fig.show()"
      ],
      "metadata": {
        "id": "nyk0hHOY-7tF"
      },
      "execution_count": null,
      "outputs": []
    },
    {
      "cell_type": "code",
      "source": [
        "# Create a DataFrame with the data\n",
        "data = df.groupby(['Churn Label', 'Use MyApp']).size().reset_index(name='Count')\n",
        "\n",
        "# Create an interactive bar chart\n",
        "fig = px.bar(data, x='Use MyApp', y='Count', color='Churn Label', barmode='group',\n",
        "             title='Churn Label vs Use MyApp Graph',\n",
        "             labels={'Churn Label': 'Churn Label'}\n",
        "             )\n",
        "\n",
        "# Show the interactive plot\n",
        "fig.show()"
      ],
      "metadata": {
        "id": "j8NDW6_V--EV"
      },
      "execution_count": null,
      "outputs": []
    },
    {
      "cell_type": "code",
      "source": [
        "# Create a DataFrame with the data\n",
        "data = df.groupby(['Churn Label', 'Payment Method']).size().reset_index(name='Count')\n",
        "\n",
        "# Create an interactive bar chart\n",
        "fig = px.bar(data, x='Payment Method', y='Count', color='Churn Label', barmode='group',\n",
        "             title='Churn Label vs Payment Method Graph',\n",
        "             labels={'Churn Label': 'Churn Label'}\n",
        "             )\n",
        "\n",
        "# Show the interactive plot\n",
        "fig.show()"
      ],
      "metadata": {
        "id": "yESlFrVM_A3x"
      },
      "execution_count": null,
      "outputs": []
    },
    {
      "cell_type": "code",
      "source": [
        "# Create a DataFrame with the data\n",
        "data = df.groupby(['Churn Label', 'Monthly Purchase (Thou. IDR)']).size().reset_index(name='Count')\n",
        "\n",
        "# Create an interactive bar chart\n",
        "fig = px.bar(data, x='Monthly Purchase (Thou. IDR)', y='Count', color='Churn Label', barmode='group',\n",
        "             title='Churn Label vs Monthly Purchase (Thou. IDR) Graph',\n",
        "             labels={'Churn Label': 'Churn Label'}\n",
        "             )\n",
        "\n",
        "# Show the interactive plot\n",
        "fig.show()"
      ],
      "metadata": {
        "id": "TgMypus4_EOK"
      },
      "execution_count": null,
      "outputs": []
    },
    {
      "cell_type": "code",
      "source": [
        "# Create a DataFrame with the data\n",
        "data = df.groupby(['Churn Label', 'CLTV (Predicted Thou. IDR)']).size().reset_index(name='Count')\n",
        "\n",
        "# Create an interactive bar chart\n",
        "fig = px.bar(data, x='CLTV (Predicted Thou. IDR)', y='Count', color='Churn Label', barmode='group',\n",
        "             title='Churn Label vs CLTV (Predicted Thou. IDR) Graph',\n",
        "             labels={'Churn Label': 'Churn Label'}\n",
        "             )\n",
        "\n",
        "# Show the interactive plot\n",
        "fig.show()"
      ],
      "metadata": {
        "id": "0mFteDRK_QD6"
      },
      "execution_count": null,
      "outputs": []
    },
    {
      "cell_type": "code",
      "source": [
        "data = df.groupby(['Device Class', 'Games Product']).size().reset_index(name='Count')\n",
        "\n",
        "fig = px.bar(data, x='Games Product', y='Count', color='Device Class',\n",
        "             title='Device Class vs Games Product',\n",
        "             labels={'Device Class': 'Device Class'},\n",
        "             barmode='stack'\n",
        "      )\n",
        "\n",
        "fig.show()"
      ],
      "metadata": {
        "id": "1A1gaZyK_Zr_"
      },
      "execution_count": null,
      "outputs": []
    },
    {
      "cell_type": "code",
      "source": [
        "data = df.groupby(['Device Class', 'Payment Method']).size().reset_index(name='Count')\n",
        "\n",
        "fig = px.bar(data, x='Payment Method', y='Count', color='Device Class',\n",
        "             title='Device Class vs Payment Method',\n",
        "             labels={'Device Class': 'Device Class'},\n",
        "             barmode='stack'\n",
        "      )\n",
        "\n",
        "fig.show()"
      ],
      "metadata": {
        "id": "9P20tJiNW_TD"
      },
      "execution_count": null,
      "outputs": []
    },
    {
      "cell_type": "code",
      "source": [
        "fig = px.histogram(df, x='Monthly Purchase (Thou. IDR)', color='Device Class',marginal='box')\n",
        "fig.show()"
      ],
      "metadata": {
        "id": "LrfZ7DA2VYMg"
      },
      "execution_count": null,
      "outputs": []
    },
    {
      "cell_type": "code",
      "source": [
        "fig = px.histogram(df, x='Total Charges', color='Churn Label', marginal='box')\n",
        "fig.show()"
      ],
      "metadata": {
        "id": "JVYv0Hx_1ZOW"
      },
      "execution_count": null,
      "outputs": []
    },
    {
      "cell_type": "code",
      "source": [
        "df.groupby('Churn Label')['Total Charges'].sum()"
      ],
      "metadata": {
        "id": "1N_w-PWx1tkV"
      },
      "execution_count": null,
      "outputs": []
    },
    {
      "cell_type": "code",
      "source": [
        "df.groupby('Churn Label')['Tenure Months'].sum()"
      ],
      "metadata": {
        "id": "Nvjl3koq4GWz"
      },
      "execution_count": null,
      "outputs": []
    },
    {
      "cell_type": "code",
      "source": [
        "fig = px.histogram(df, x='Tenure Months', color='Churn Label',marginal='box')\n",
        "fig.show()"
      ],
      "metadata": {
        "id": "FrlEisX-_NWV"
      },
      "execution_count": null,
      "outputs": []
    },
    {
      "cell_type": "code",
      "source": [
        "df.groupby('Churn Label')['Tenure Months'].quantile([.50,.75,.90,.95])"
      ],
      "metadata": {
        "id": "zRwgzk5v_bZR"
      },
      "execution_count": null,
      "outputs": []
    },
    {
      "cell_type": "code",
      "source": [
        "df.groupby('Churn Label')['Tenure Months'].mean()"
      ],
      "metadata": {
        "id": "mnF05LXK_hNr"
      },
      "execution_count": null,
      "outputs": []
    },
    {
      "cell_type": "code",
      "source": [
        "# Membuat line plot\n",
        "fig = px.line(df, x='Age', color='HeartDisease', markers=True)\n",
        "\n",
        "# Menambahkan box plot marginal di sepanjang sumbu x\n",
        "fig.update_layout(\n",
        "    xaxis=dict(\n",
        "        showline=True,\n",
        "        showgrid=False,\n",
        "        showticklabels=True\n",
        "    ),\n",
        "    yaxis=dict(\n",
        "        showline=True,\n",
        "        showgrid=False,\n",
        "        showticklabels=True\n",
        "    )\n",
        ")\n",
        "\n",
        "# Menambahkan label dan judul\n",
        "fig.update_layout(\n",
        "    xaxis_title='Age',\n",
        "    yaxis_title='Frequency',\n",
        "    title='Line Plot of Age by Heart Disease'\n",
        ")\n",
        "\n",
        "# Menampilkan plot\n",
        "fig.show()"
      ],
      "metadata": {
        "id": "-n901egeAVuw"
      },
      "execution_count": null,
      "outputs": []
    },
    {
      "cell_type": "code",
      "source": [
        "df.groupby('Churn Label')['Monthly Purchase (Thou. IDR)'].quantile([.50,.75,.90,.95])"
      ],
      "metadata": {
        "id": "wHEny7dgd3DI"
      },
      "execution_count": null,
      "outputs": []
    },
    {
      "cell_type": "code",
      "source": [
        "df.groupby('Churn Label')['Monthly Purchase (Thou. IDR)'].mean()"
      ],
      "metadata": {
        "id": "pGWm2aAfd483"
      },
      "execution_count": null,
      "outputs": []
    },
    {
      "cell_type": "code",
      "source": [
        "fig = px.histogram(df, x='CLTV (Predicted Thou. IDR)', color='Churn Label',marginal='box')\n",
        "fig.show()"
      ],
      "metadata": {
        "id": "9uiRyzB4iXEh"
      },
      "execution_count": null,
      "outputs": []
    },
    {
      "cell_type": "code",
      "source": [
        "df.groupby('Churn Label')['CLTV (Predicted Thou. IDR)'].sum()"
      ],
      "metadata": {
        "id": "Nmsjh5SE4Wm9"
      },
      "execution_count": null,
      "outputs": []
    },
    {
      "cell_type": "code",
      "source": [
        "df.groupby('Churn Label')['CLTV (Predicted Thou. IDR)'].quantile([.50,.75,.90,.95])"
      ],
      "metadata": {
        "id": "Nen2G-T3ievT"
      },
      "execution_count": null,
      "outputs": []
    },
    {
      "cell_type": "code",
      "source": [
        "df.groupby('Churn Label')['CLTV (Predicted Thou. IDR)'].mean()"
      ],
      "metadata": {
        "id": "AQOdOtdzifqb"
      },
      "execution_count": null,
      "outputs": []
    },
    {
      "cell_type": "markdown",
      "source": [
        "## **Modeling**"
      ],
      "metadata": {
        "id": "UoGT_gWnS7RR"
      }
    },
    {
      "cell_type": "markdown",
      "source": [
        "### **Feature Selection**"
      ],
      "metadata": {
        "id": "492vhcDA3sjk"
      }
    },
    {
      "cell_type": "code",
      "source": [
        "fix_df = df.drop(['Customer ID', 'Location', 'Longitude', 'Latitude'], axis=1)"
      ],
      "metadata": {
        "id": "ewldNQujmU9n"
      },
      "execution_count": null,
      "outputs": []
    },
    {
      "cell_type": "code",
      "source": [
        "fix_df.info()"
      ],
      "metadata": {
        "id": "xAooWqyfmqnN"
      },
      "execution_count": null,
      "outputs": []
    },
    {
      "cell_type": "code",
      "source": [
        "fix_df.head()"
      ],
      "metadata": {
        "id": "arpnIM7PofBK"
      },
      "execution_count": null,
      "outputs": []
    },
    {
      "cell_type": "markdown",
      "source": [
        "### **Encoding**"
      ],
      "metadata": {
        "id": "PNRY4y3j3x_I"
      }
    },
    {
      "cell_type": "code",
      "source": [
        "fix_df['Churn Label'].replace(to_replace='Yes', value=1, inplace=True)\n",
        "fix_df['Churn Label'].replace(to_replace='No',  value=0, inplace=True)"
      ],
      "metadata": {
        "id": "rRAx9fyUojLS"
      },
      "execution_count": null,
      "outputs": []
    },
    {
      "cell_type": "code",
      "source": [
        "def encode_data(dataframe_series):\n",
        "    if dataframe_series.dtype=='object':\n",
        "        dataframe_series = LabelEncoder().fit_transform(dataframe_series)\n",
        "    return dataframe_series"
      ],
      "metadata": {
        "id": "cu5EQyX8onPK"
      },
      "execution_count": null,
      "outputs": []
    },
    {
      "cell_type": "code",
      "source": [
        "fix_df = fix_df.apply(lambda x: encode_data(x))\n",
        "fix_df.head(10)"
      ],
      "metadata": {
        "id": "VakmTELKoowc"
      },
      "execution_count": null,
      "outputs": []
    },
    {
      "cell_type": "markdown",
      "source": [
        "### **Oversampling**"
      ],
      "metadata": {
        "id": "yhfu1q3U34Ud"
      }
    },
    {
      "cell_type": "code",
      "source": [
        "fig = px.bar(x=fix_df.corr()['Churn Label'].sort_values(ascending=True).index,\n",
        "             y=fix_df.corr()['Churn Label'].sort_values(ascending=True).values,\n",
        "             color=fix_df.corr()['Churn Label'].sort_values(ascending=True).values)\n",
        "fig.show()"
      ],
      "metadata": {
        "id": "-F2vCz5kov48"
      },
      "execution_count": null,
      "outputs": []
    },
    {
      "cell_type": "code",
      "source": [
        "fix_df.groupby('Churn Label')['Churn Label'].count()"
      ],
      "metadata": {
        "id": "EpECck-UpSc3"
      },
      "execution_count": null,
      "outputs": []
    },
    {
      "cell_type": "code",
      "source": [
        "over = SMOTE(sampling_strategy=1)\n",
        "\n",
        "X = fix_df.drop(\"Churn Label\", axis=1).values\n",
        "y = fix_df['Churn Label'].values"
      ],
      "metadata": {
        "id": "XG91OW_-qIVa"
      },
      "execution_count": null,
      "outputs": []
    },
    {
      "cell_type": "code",
      "source": [
        "X, y = over.fit_resample(X, y)"
      ],
      "metadata": {
        "id": "s1WPg4VFqMUp"
      },
      "execution_count": null,
      "outputs": []
    },
    {
      "cell_type": "markdown",
      "source": [
        "### **Train Test Split**"
      ],
      "metadata": {
        "id": "YSr3cF4j3_w-"
      }
    },
    {
      "cell_type": "code",
      "source": [
        "X_train, X_test, y_train, y_test = train_test_split(X, y, random_state=2, test_size=0.2)"
      ],
      "metadata": {
        "id": "244XUzUZqha0"
      },
      "execution_count": null,
      "outputs": []
    },
    {
      "cell_type": "markdown",
      "source": [
        "### **Making Model Function**"
      ],
      "metadata": {
        "id": "dXQbBTP468dq"
      }
    },
    {
      "cell_type": "code",
      "source": [
        "def model(method, X_train, y_train, X_test, y_test):\n",
        "    method.fit(X_train, y_train)\n",
        "\n",
        "    predictions = method.predict(X_test)\n",
        "    c_matrix = confusion_matrix(y_test, predictions)\n",
        "\n",
        "    percentages = (c_matrix / np.sum(c_matrix, axis=1)[:, np.newaxis]).round(2) * 100\n",
        "\n",
        "    TP = c_matrix[1, 1]  # True Positives\n",
        "    TN = c_matrix[0, 0]  # True Negatives\n",
        "    FP = c_matrix[0, 1]  # False Positives\n",
        "    FN = c_matrix[1, 0]  # False Negatives\n",
        "\n",
        "    labels = [\n",
        "        [f'TN: {TN} ({percentages[0, 0]:.2f}%)', f'FP: {FP} ({percentages[0, 1]:.2f}%)'],\n",
        "        [f'FN: {FN} ({percentages[1, 0]:.2f}%)', f'TP: {TP} ({percentages[1, 1]:.2f}%)']\n",
        "    ]\n",
        "    labels = np.asarray(labels)\n",
        "\n",
        "    sns.heatmap(c_matrix, annot=labels, fmt='', cmap='Blues')\n",
        "\n",
        "    print(f'ROC AUC: {roc_auc_score(y_test, predictions):.2%}')\n",
        "    print(f'Model accuracy: {accuracy_score(y_test, predictions):.2%}')\n",
        "    print(classification_report(y_test, predictions))"
      ],
      "metadata": {
        "id": "s_PEAqaPqPIt"
      },
      "execution_count": null,
      "outputs": []
    },
    {
      "cell_type": "markdown",
      "source": [
        "### **XGBoost**"
      ],
      "metadata": {
        "id": "YiYZV6R54DJt"
      }
    },
    {
      "cell_type": "code",
      "source": [
        "xgb = XGBClassifier(learning_rate=0.01, max_depth=16, n_estimators=1000, random_state=55)"
      ],
      "metadata": {
        "id": "T0D-9Jx0q5EO"
      },
      "execution_count": null,
      "outputs": []
    },
    {
      "cell_type": "code",
      "source": [
        "model(xgb, X_train, y_train, X_test, y_test)"
      ],
      "metadata": {
        "id": "17WmEQTXrIuW"
      },
      "execution_count": null,
      "outputs": []
    },
    {
      "cell_type": "markdown",
      "source": [
        "### **K-Nearest Neighbor (KNN)**"
      ],
      "metadata": {
        "id": "6UT3iXcP4FwK"
      }
    },
    {
      "cell_type": "code",
      "source": [
        "knn = KNeighborsClassifier(n_neighbors=10)\n",
        "model(knn, X_train, y_train, X_test, y_test)"
      ],
      "metadata": {
        "id": "lefNkSGCElGm"
      },
      "execution_count": null,
      "outputs": []
    },
    {
      "cell_type": "markdown",
      "source": [
        "### **Random Forest**"
      ],
      "metadata": {
        "id": "sgLX5uYB4NN3"
      }
    },
    {
      "cell_type": "code",
      "source": [
        "RF = RandomForestClassifier(n_estimators=50, max_depth=16, random_state=55)\n",
        "model(RF, X_train, y_train, X_test, y_test)"
      ],
      "metadata": {
        "id": "6CaCTkHPEpJQ"
      },
      "execution_count": null,
      "outputs": []
    },
    {
      "cell_type": "markdown",
      "source": [
        "### **AdaBoost**"
      ],
      "metadata": {
        "id": "kvkp-22M4RKP"
      }
    },
    {
      "cell_type": "code",
      "source": [
        "boosting = AdaBoostClassifier(learning_rate=0.01, random_state=55)\n",
        "model(boosting, X_train, y_train, X_test, y_test)"
      ],
      "metadata": {
        "id": "yr6tncrfEsTN"
      },
      "execution_count": null,
      "outputs": []
    },
    {
      "cell_type": "markdown",
      "source": [
        "### **Predictive AI Model**"
      ],
      "metadata": {
        "id": "-_dfzMfH4T63"
      }
    },
    {
      "cell_type": "code",
      "source": [
        "model = XGBClassifier(learning_rate=0.01, max_depth=16, n_estimators=1000, random_state=55)\n",
        "model.fit(X_train, y_train)"
      ],
      "metadata": {
        "id": "e9wuimgsa_iL"
      },
      "execution_count": null,
      "outputs": []
    },
    {
      "cell_type": "code",
      "source": [
        "print('Apakah kamu memakai Device Class?')\n",
        "print('0. High End')\n",
        "print('1. Low End')\n",
        "print('2. Mid End')\n",
        "deviceClass = int(input('Jawab: '))\n",
        "\n",
        "print('Berapa lama Anda berlangganan (dalam bulan)?')\n",
        "tenureMonths = int(input('Jawab: '))\n",
        "\n",
        "print('Apakah kamu memakai Games Product?')\n",
        "print('0. No')\n",
        "print('1. Yes')\n",
        "gamesProduct = int(input('Jawab: '))\n",
        "\n",
        "print('Apakah kamu memakai Music Product?')\n",
        "print('0. No')\n",
        "print('1. Yes')\n",
        "musicProduct = int(input('Jawab: '))\n",
        "\n",
        "print('Apakah kamu memakai Education Product?')\n",
        "print('0. No')\n",
        "print('1. Yes')\n",
        "educationProduct = int(input('Jawab: '))\n",
        "\n",
        "print('Apakah kamu menggunakan Call Center?')\n",
        "print('0. No')\n",
        "print('1. Yes')\n",
        "callCenter = int(input('Jawab: '))\n",
        "\n",
        "print('Apakah kamu memakai Video Product?')\n",
        "print('0. No')\n",
        "print('1. Yes')\n",
        "videoProduct = int(input('Jawab: '))\n",
        "\n",
        "print('Apakah kamu memakai MyApp?')\n",
        "print('0. No')\n",
        "print('1. Yes')\n",
        "myApp = int(input('Jawab: '))\n",
        "\n",
        "print('Berapa total pengeluaran bulanan Anda (dalam ribuan IDR)?')\n",
        "monthlyPurchase = int(input('Jawab: '))\n",
        "\n",
        "print('Apa Payment Method yang Anda gunakan?')\n",
        "print('0. Credit')\n",
        "print('1. Debit')\n",
        "print('2. Digital Wallet')\n",
        "print('3. Pulsa')\n",
        "paymentMethod = int(input('Jawab: '))\n",
        "\n",
        "print('Berapa total CLTV (dalam ribuan IDR) Anda?')\n",
        "cltv = int(input('Jawab: '))\n",
        "\n",
        "totalCharges = tenureMonths * monthlyPurchase"
      ],
      "metadata": {
        "id": "tsMXUNgcqp9t"
      },
      "execution_count": null,
      "outputs": []
    },
    {
      "cell_type": "code",
      "source": [
        "# Prepare input data from user\n",
        "user_input = {\n",
        "    'Device Class': deviceClass,\n",
        "    'Tenure Months': tenureMonths,\n",
        "    'Games Product': gamesProduct,\n",
        "    'Music Product': musicProduct,\n",
        "    'Education Product': educationProduct,\n",
        "    'Call Center': callCenter,\n",
        "    'Video Product': videoProduct,\n",
        "    'Use MyApp': myApp,\n",
        "    'Monthly Purchase (Thou. IDR)': monthlyPurchase,\n",
        "    'Payment Method': paymentMethod,\n",
        "    'CLTV (Predicted Thou. IDR)': cltv,\n",
        "    'Total Charges': totalCharges\n",
        "}\n",
        "\n",
        "# Create a DataFrame from the user input\n",
        "user_df = pd.DataFrame([user_input])"
      ],
      "metadata": {
        "id": "hnUySS-NYgid"
      },
      "execution_count": null,
      "outputs": []
    },
    {
      "cell_type": "code",
      "source": [
        "# Use the model to make predictions\n",
        "predicted_churn = model.predict(user_df)\n",
        "predicted_churn_prob = model.predict_proba(user_df)\n",
        "\n",
        "print(\"Probabilitas Churn 'Yes':\", predicted_churn_prob[0][1])\n",
        "print(\"Probabilitas Churn 'No':\", predicted_churn_prob[0][0])\n",
        "\n",
        "if predicted_churn == [1]:\n",
        "    print(\"Berdasarkan input Anda, kemungkinan pelanggan akan churn: 'Yes'\")\n",
        "else:\n",
        "    print(\"Berdasarkan input Anda, kemungkinan pelanggan akan churn: 'No'\")"
      ],
      "metadata": {
        "id": "SPbhMRbqYsVT"
      },
      "execution_count": null,
      "outputs": []
    }
  ],
  "metadata": {
    "colab": {
      "provenance": []
    },
    "kernelspec": {
      "display_name": "Python 3",
      "name": "python3"
    },
    "language_info": {
      "name": "python"
    }
  },
  "nbformat": 4,
  "nbformat_minor": 0
}